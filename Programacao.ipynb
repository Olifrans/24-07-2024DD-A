{
  "nbformat": 4,
  "nbformat_minor": 0,
  "metadata": {
    "colab": {
      "provenance": [],
      "toc_visible": true,
      "authorship_tag": "ABX9TyMEAyyaLZCm5aNQOYY0XEH6",
      "include_colab_link": true
    },
    "kernelspec": {
      "name": "python3",
      "display_name": "Python 3"
    },
    "language_info": {
      "name": "python"
    }
  },
  "cells": [
    {
      "cell_type": "markdown",
      "metadata": {
        "id": "view-in-github",
        "colab_type": "text"
      },
      "source": [
        "<a href=\"https://colab.research.google.com/github/Olifrans/24-07-2024DD-A/blob/master/Programacao.ipynb\" target=\"_parent\"><img src=\"https://colab.research.google.com/assets/colab-badge.svg\" alt=\"Open In Colab\"/></a>"
      ]
    },
    {
      "cell_type": "code",
      "execution_count": null,
      "metadata": {
        "id": "6ixEiyVmXnTT"
      },
      "outputs": [],
      "source": []
    },
    {
      "cell_type": "code",
      "source": [
        "print('Olá mundo')"
      ],
      "metadata": {
        "colab": {
          "base_uri": "https://localhost:8080/"
        },
        "id": "7ypJeRf7XrWV",
        "outputId": "207f1bba-037a-44b0-abba-88ffc46c14c0"
      },
      "execution_count": 1,
      "outputs": [
        {
          "output_type": "stream",
          "name": "stdout",
          "text": [
            "Olá mundo\n"
          ]
        }
      ]
    },
    {
      "cell_type": "code",
      "source": [
        "def nome_da_funcao(parametros):\n",
        "  \"\"\"Docstring da função.\"\"\"\n",
        "  # Corpo da função\n",
        "  return valor_de_retorno"
      ],
      "metadata": {
        "id": "5Iw-PlRNYEx-"
      },
      "execution_count": 2,
      "outputs": []
    },
    {
      "cell_type": "code",
      "source": [
        "import pandas as pd"
      ],
      "metadata": {
        "id": "UCf1e51jYN70"
      },
      "execution_count": 3,
      "outputs": []
    },
    {
      "cell_type": "code",
      "source": [
        "# prompt: create\n",
        "\n",
        "import pandas as pd\n",
        "\n",
        "print('Olá mundo')\n",
        "\n",
        "def nome_da_funcao(parametros):\n",
        "  \"\"\"Docstring da função.\"\"\"\n",
        "  # Corpo da função\n",
        "  return valor_de_retorno\n",
        "\n",
        "# Criando um DataFrame de exemplo\n",
        "data = {'Nome': ['Alice', 'Bob', 'Charlie'],\n",
        "        'Idade': [25, 30, 28],\n",
        "        'Cidade': ['São Paulo', 'Rio de Janeiro', 'Belo Horizonte']}\n",
        "df = pd.DataFrame(data)\n",
        "\n",
        "# Exibindo o DataFrame\n",
        "print(df)\n"
      ],
      "metadata": {
        "colab": {
          "base_uri": "https://localhost:8080/"
        },
        "id": "YSKNfyUeY0VL",
        "outputId": "f060423a-3181-4134-e649-ce618ccf7233"
      },
      "execution_count": 4,
      "outputs": [
        {
          "output_type": "stream",
          "name": "stdout",
          "text": [
            "Olá mundo\n",
            "      Nome  Idade          Cidade\n",
            "0    Alice     25       São Paulo\n",
            "1      Bob     30  Rio de Janeiro\n",
            "2  Charlie     28  Belo Horizonte\n"
          ]
        }
      ]
    },
    {
      "cell_type": "code",
      "source": [
        "# prompt: função Fibonacci de 05 a 850\n",
        "\n",
        "import pandas as pd\n",
        "print('Olá mundo')\n",
        "def nome_da_funcao(parametros):\n",
        "  \"\"\"Docstring da função.\"\"\"\n",
        "  # Corpo da função\n",
        "  return valor_de_retorno\n",
        "\n",
        "\n",
        "print('Olá mundo')\n",
        "\n",
        "def nome_da_funcao(parametros):\n",
        "  \"\"\"Docstring da função.\"\"\"\n",
        "  # Corpo da função\n",
        "  return valor_de_retorno\n",
        "\n",
        "# Criando um DataFrame de exemplo\n",
        "data = {'Nome': ['Alice', 'Bob', 'Charlie'],\n",
        "        'Idade': [25, 30, 28],\n",
        "        'Cidade': ['São Paulo', 'Rio de Janeiro', 'Belo Horizonte']}\n",
        "df = pd.DataFrame(data)\n",
        "\n",
        "# Exibindo o DataFrame\n",
        "print(df)\n",
        "\n",
        "def fibonacci(n):\n",
        "  \"\"\"Calcula a sequência de Fibonacci até o n-ésimo termo.\"\"\"\n",
        "  a, b = 0, 1\n",
        "  while a < n:\n",
        "    print(a, end=' ')\n",
        "    a, b = b, a + b\n",
        "  print()\n",
        "\n",
        "# Chamando a função para gerar a sequência de Fibonacci até 850\n",
        "fibonacci(850)\n"
      ],
      "metadata": {
        "colab": {
          "base_uri": "https://localhost:8080/"
        },
        "id": "xlOg0XNCb9-Y",
        "outputId": "7a0d4132-c2e4-43b4-abd3-00544db2b5b1"
      },
      "execution_count": 6,
      "outputs": [
        {
          "output_type": "stream",
          "name": "stdout",
          "text": [
            "Olá mundo\n",
            "Olá mundo\n",
            "      Nome  Idade          Cidade\n",
            "0    Alice     25       São Paulo\n",
            "1      Bob     30  Rio de Janeiro\n",
            "2  Charlie     28  Belo Horizonte\n",
            "0 1 1 2 3 5 8 13 21 34 55 89 144 233 377 610 \n"
          ]
        }
      ]
    },
    {
      "cell_type": "code",
      "source": [],
      "metadata": {
        "id": "g_fUzFBycqM6"
      },
      "execution_count": null,
      "outputs": []
    },
    {
      "source": [
        "import math\n",
        "\n",
        "def trajetoria_missil(velocidade_inicial, angulo_lancamento, tempo):\n",
        "  \"\"\"Calcula a posição (x, y) de um míssil em um determinado tempo.\n",
        "\n",
        "  Args:\n",
        "    velocidade_inicial: Velocidade inicial do míssil em m/s.\n",
        "    angulo_lancamento: Ângulo de lançamento em graus.\n",
        "    tempo: Tempo em segundos após o lançamento.\n",
        "\n",
        "  Returns:\n",
        "    Uma tupla (x, y) representando a posição do míssil.\n",
        "  \"\"\"\n",
        "  g = 9.81  # Aceleração da gravidade\n",
        "  angulo_radianos = math.radians(angulo_lancamento)\n",
        "\n",
        "  x = velocidade_inicial * math.cos(angulo_radianos) * tempo\n",
        "  y = velocidade_inicial * math.sin(angulo_radianos) * tempo - 0.5 * g * tempo**2\n",
        "\n",
        "  return x, y\n",
        "\n",
        "# Exemplo de uso\n",
        "x, y = trajetoria_missil(100, 45, 5)\n",
        "print(f\"Posição do míssil após 5 segundos: ({x:.2f}, {y:.2f})\")"
      ],
      "cell_type": "code",
      "metadata": {
        "colab": {
          "base_uri": "https://localhost:8080/"
        },
        "id": "iQJgCRnqd52H",
        "outputId": "50a81156-90ce-4eb0-f404-7f689ff3a8c0"
      },
      "execution_count": 7,
      "outputs": [
        {
          "output_type": "stream",
          "name": "stdout",
          "text": [
            "Posição do míssil após 5 segundos: (353.55, 230.93)\n"
          ]
        }
      ]
    }
  ]
}