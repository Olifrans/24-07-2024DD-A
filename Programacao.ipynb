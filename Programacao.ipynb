{
  "nbformat": 4,
  "nbformat_minor": 0,
  "metadata": {
    "colab": {
      "provenance": [],
      "toc_visible": true,
      "authorship_tag": "ABX9TyMFr7NGPpYt3WzWOICXV1Hx",
      "include_colab_link": true
    },
    "kernelspec": {
      "name": "python3",
      "display_name": "Python 3"
    },
    "language_info": {
      "name": "python"
    }
  },
  "cells": [
    {
      "cell_type": "markdown",
      "metadata": {
        "id": "view-in-github",
        "colab_type": "text"
      },
      "source": [
        "<a href=\"https://colab.research.google.com/github/Olifrans/24-07-2024DD-A/blob/master/Programacao.ipynb\" target=\"_parent\"><img src=\"https://colab.research.google.com/assets/colab-badge.svg\" alt=\"Open In Colab\"/></a>"
      ]
    },
    {
      "cell_type": "code",
      "execution_count": null,
      "metadata": {
        "id": "6ixEiyVmXnTT"
      },
      "outputs": [],
      "source": []
    },
    {
      "cell_type": "code",
      "source": [
        "print('Olá mundo')"
      ],
      "metadata": {
        "colab": {
          "base_uri": "https://localhost:8080/"
        },
        "id": "7ypJeRf7XrWV",
        "outputId": "207f1bba-037a-44b0-abba-88ffc46c14c0"
      },
      "execution_count": 1,
      "outputs": [
        {
          "output_type": "stream",
          "name": "stdout",
          "text": [
            "Olá mundo\n"
          ]
        }
      ]
    },
    {
      "cell_type": "code",
      "source": [
        "def nome_da_funcao(parametros):\n",
        "  \"\"\"Docstring da função.\"\"\"\n",
        "  # Corpo da função\n",
        "  return valor_de_retorno"
      ],
      "metadata": {
        "id": "5Iw-PlRNYEx-"
      },
      "execution_count": 2,
      "outputs": []
    },
    {
      "cell_type": "code",
      "source": [
        "import pandas as pd"
      ],
      "metadata": {
        "id": "UCf1e51jYN70"
      },
      "execution_count": 3,
      "outputs": []
    },
    {
      "cell_type": "code",
      "source": [
        "# prompt: create\n",
        "\n",
        "import pandas as pd\n",
        "\n",
        "print('Olá mundo')\n",
        "\n",
        "def nome_da_funcao(parametros):\n",
        "  \"\"\"Docstring da função.\"\"\"\n",
        "  # Corpo da função\n",
        "  return valor_de_retorno\n",
        "\n",
        "# Criando um DataFrame de exemplo\n",
        "data = {'Nome': ['Alice', 'Bob', 'Charlie'],\n",
        "        'Idade': [25, 30, 28],\n",
        "        'Cidade': ['São Paulo', 'Rio de Janeiro', 'Belo Horizonte']}\n",
        "df = pd.DataFrame(data)\n",
        "\n",
        "# Exibindo o DataFrame\n",
        "print(df)\n"
      ],
      "metadata": {
        "colab": {
          "base_uri": "https://localhost:8080/"
        },
        "id": "YSKNfyUeY0VL",
        "outputId": "f060423a-3181-4134-e649-ce618ccf7233"
      },
      "execution_count": 4,
      "outputs": [
        {
          "output_type": "stream",
          "name": "stdout",
          "text": [
            "Olá mundo\n",
            "      Nome  Idade          Cidade\n",
            "0    Alice     25       São Paulo\n",
            "1      Bob     30  Rio de Janeiro\n",
            "2  Charlie     28  Belo Horizonte\n"
          ]
        }
      ]
    },
    {
      "cell_type": "code",
      "source": [
        "create pd.Dat"
      ],
      "metadata": {
        "id": "N6upZ6tNZIVv"
      },
      "execution_count": null,
      "outputs": []
    }
  ]
}